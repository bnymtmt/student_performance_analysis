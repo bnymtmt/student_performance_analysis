{
 "cells": [
  {
   "cell_type": "code",
   "execution_count": null,
   "id": "656364fe",
   "metadata": {},
   "outputs": [],
   "source": [
    "\n",
    "import pandas as pd\n",
    "import numpy as np\n",
    "import matplotlib.pyplot as plt\n",
    "import seaborn as sns\n",
    "from sklearn.preprocessing import LabelEncoder, StandardScaler\n",
    "from sklearn.model_selection import train_test_split\n",
    "from sklearn.linear_model import LogisticRegression\n",
    "from sklearn.metrics import accuracy_score, f1_score\n",
    "from sklearn.impute import SimpleImputer, KNNImputer\n"
   ]
  },
  {
   "cell_type": "code",
   "execution_count": null,
   "id": "091e85b9",
   "metadata": {},
   "outputs": [],
   "source": [
    "\n",
    "# Veri setini yükle\n",
    "url = \"https://archive.ics.uci.edu/ml/machine-learning-databases/adult/adult.data\"\n",
    "sutunlar = [\n",
    "    \"yas\", \"calisma_durumu\", \"agirlik_faktoru\", \"egitim\", \"egitim_sure\", \"medeni_durum\",\n",
    "    \"meslek\", \"akrabalik_durumu\", \"irk\", \"cinsiyet\", \"sermaye_getirisi\", \"sermaye_kaybi\",\n",
    "    \"haftalik_calisma_saati\", \"ulke\", \"gelir\"\n",
    "]\n",
    "df = pd.read_csv(url, names=sutunlar, na_values=\" ?\", skipinitialspace=True)\n",
    "df.head()\n"
   ]
  },
  {
   "cell_type": "code",
   "execution_count": null,
   "id": "e93736d0",
   "metadata": {},
   "outputs": [],
   "source": [
    "\n",
    "# Eksik veri kontrolü\n",
    "print(\"Eksik veriler:\")\n",
    "print(df.isnull().sum())\n"
   ]
  },
  {
   "cell_type": "code",
   "execution_count": null,
   "id": "3c68242e",
   "metadata": {},
   "outputs": [],
   "source": [
    "\n",
    "# Sayısal ve kategorik değişkenleri belirle\n",
    "sayisal_degiskenler = [\"yas\", \"agirlik_faktoru\", \"egitim_sure\", \"sermaye_getirisi\", \"sermaye_kaybi\", \"haftalik_calisma_saati\"]\n",
    "kategorik_degiskenler = [\"calisma_durumu\", \"egitim\", \"medeni_durum\", \"meslek\", \"akrabalik_durumu\", \"irk\", \"ulke\", \"cinsiyet\", \"gelir\"]\n"
   ]
  },
  {
   "cell_type": "code",
   "execution_count": null,
   "id": "3493f700",
   "metadata": {},
   "outputs": [],
   "source": [
    "\n",
    "# Eksik verileri doldurma (Sadece sayısal değişkenlerde uyguluyoruz)\n",
    "imputer_median = SimpleImputer(strategy='median')\n",
    "df[sayisal_degiskenler] = imputer_median.fit_transform(df[sayisal_degiskenler])\n",
    "\n",
    "imputer_knn = KNNImputer(n_neighbors=3)\n",
    "df[sayisal_degiskenler] = imputer_knn.fit_transform(df[sayisal_degiskenler])\n"
   ]
  },
  {
   "cell_type": "code",
   "execution_count": null,
   "id": "dabc5027",
   "metadata": {},
   "outputs": [],
   "source": [
    "\n",
    "# Kategorik değişkenleri sayısal hale dönüştürme\n",
    "le = LabelEncoder()\n",
    "df[\"cinsiyet\"] = le.fit_transform(df[\"cinsiyet\"])\n",
    "df[\"gelir\"] = df[\"gelir\"].map({\"<=50K\": 0, \">50K\": 1})\n"
   ]
  },
  {
   "cell_type": "code",
   "execution_count": null,
   "id": "97c68cf5",
   "metadata": {},
   "outputs": [],
   "source": [
    "\n",
    "# One-Hot Encoding ile dönüşüm (İlk kategori düşürülerek dummy değişken tuzağı önlenir)\n",
    "df = pd.get_dummies(df, columns=[\"calisma_durumu\", \"egitim\", \"medeni_durum\", \"meslek\", \"akrabalik_durumu\", \"irk\", \"ulke\"], drop_first=True)\n"
   ]
  },
  {
   "cell_type": "code",
   "execution_count": null,
   "id": "32b6be0f",
   "metadata": {},
   "outputs": [],
   "source": [
    "\n",
    "# Sayısal değişkenleri ölçekleme (Sadece StandardScaler kullanıyoruz)\n",
    "scaler = StandardScaler()\n",
    "df[sayisal_degiskenler] = scaler.fit_transform(df[sayisal_degiskenler])\n"
   ]
  },
  {
   "cell_type": "code",
   "execution_count": null,
   "id": "59f0ce60",
   "metadata": {},
   "outputs": [],
   "source": [
    "\n",
    "# Eğitim ve test veri setine ayırma\n",
    "X = df.drop(\"gelir\", axis=1)\n",
    "y = df[\"gelir\"]\n",
    "X_train, X_test, y_train, y_test = train_test_split(X, y, test_size=0.2, random_state=42)\n"
   ]
  },
  {
   "cell_type": "code",
   "execution_count": null,
   "id": "3fd761c7",
   "metadata": {},
   "outputs": [],
   "source": [
    "\n",
    "# Lojistik regresyon modeli eğitme\n",
    "model = LogisticRegression(max_iter=1000)\n",
    "model.fit(X_train, y_train)\n"
   ]
  },
  {
   "cell_type": "code",
   "execution_count": null,
   "id": "2a16ef72",
   "metadata": {},
   "outputs": [],
   "source": [
    "\n",
    "# Modelin performansını değerlendirme\n",
    "y_pred = model.predict(X_test)\n",
    "accuracy = accuracy_score(y_test, y_pred)\n",
    "f1 = f1_score(y_test, y_pred)\n",
    "\n",
    "print(\"Doğruluk (Accuracy):\", accuracy)\n",
    "print(\"F1 Skoru:\", f1)\n"
   ]
  }
 ],
 "metadata": {},
 "nbformat": 4,
 "nbformat_minor": 5
}
